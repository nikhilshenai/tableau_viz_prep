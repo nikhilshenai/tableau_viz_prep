{
 "cells": [
  {
   "cell_type": "code",
   "execution_count": 1,
   "id": "08fd017b",
   "metadata": {
    "_cell_guid": "b1076dfc-b9ad-4769-8c92-a6c4dae69d19",
    "_uuid": "8f2839f25d086af736a60e9eeb907d3b93b6e0e5",
    "execution": {
     "iopub.execute_input": "2024-07-13T16:59:14.662753Z",
     "iopub.status.busy": "2024-07-13T16:59:14.662265Z",
     "iopub.status.idle": "2024-07-13T16:59:15.626906Z",
     "shell.execute_reply": "2024-07-13T16:59:15.625375Z"
    },
    "papermill": {
     "duration": 0.971967,
     "end_time": "2024-07-13T16:59:15.629679",
     "exception": false,
     "start_time": "2024-07-13T16:59:14.657712",
     "status": "completed"
    },
    "tags": []
   },
   "outputs": [
    {
     "name": "stdout",
     "output_type": "stream",
     "text": [
      "/kaggle/input/movie-titles/title.basics.tsv\n",
      "/kaggle/input/imdb-movie-akas/title.akas.tsv\n",
      "/kaggle/input/movies-viz/movies_viz.csv\n"
     ]
    }
   ],
   "source": [
    "# This Python 3 environment comes with many helpful analytics libraries installed\n",
    "# It is defined by the kaggle/python Docker image: https://github.com/kaggle/docker-python\n",
    "# For example, here's several helpful packages to load\n",
    "\n",
    "import numpy as np # linear algebra\n",
    "import pandas as pd # data processing, CSV file I/O (e.g. pd.read_csv)\n",
    "\n",
    "# Input data files are available in the read-only \"../input/\" directory\n",
    "# For example, running this (by clicking run or pressing Shift+Enter) will list all files under the input directory\n",
    "\n",
    "import os\n",
    "for dirname, _, filenames in os.walk('/kaggle/input'):\n",
    "    for filename in filenames:\n",
    "        print(os.path.join(dirname, filename))\n",
    "\n",
    "# You can write up to 20GB to the current directory (/kaggle/working/) that gets preserved as output when you create a version using \"Save & Run All\" \n",
    "# You can also write temporary files to /kaggle/temp/, but they won't be saved outside of the current session"
   ]
  },
  {
   "cell_type": "code",
   "execution_count": 2,
   "id": "287acbdb",
   "metadata": {
    "execution": {
     "iopub.execute_input": "2024-07-13T16:59:15.636153Z",
     "iopub.status.busy": "2024-07-13T16:59:15.635649Z",
     "iopub.status.idle": "2024-07-13T17:00:01.454437Z",
     "shell.execute_reply": "2024-07-13T17:00:01.453383Z"
    },
    "papermill": {
     "duration": 45.824889,
     "end_time": "2024-07-13T17:00:01.457191",
     "exception": false,
     "start_time": "2024-07-13T16:59:15.632302",
     "status": "completed"
    },
    "tags": []
   },
   "outputs": [],
   "source": [
    "titles = pd.read_csv('/kaggle/input/movie-titles/title.basics.tsv',sep='\\t', low_memory=False)"
   ]
  },
  {
   "cell_type": "code",
   "execution_count": null,
   "id": "6337ca40",
   "metadata": {
    "papermill": {
     "duration": 0.002386,
     "end_time": "2024-07-13T17:00:01.461986",
     "exception": false,
     "start_time": "2024-07-13T17:00:01.459600",
     "status": "completed"
    },
    "tags": []
   },
   "outputs": [],
   "source": []
  },
  {
   "cell_type": "code",
   "execution_count": null,
   "id": "438bfaa0",
   "metadata": {
    "papermill": {
     "duration": 0.002063,
     "end_time": "2024-07-13T17:00:01.466682",
     "exception": false,
     "start_time": "2024-07-13T17:00:01.464619",
     "status": "completed"
    },
    "tags": []
   },
   "outputs": [],
   "source": []
  }
 ],
 "metadata": {
  "kaggle": {
   "accelerator": "none",
   "dataSources": [
    {
     "datasetId": 5375491,
     "sourceId": 8935090,
     "sourceType": "datasetVersion"
    },
    {
     "datasetId": 5383591,
     "sourceId": 8946363,
     "sourceType": "datasetVersion"
    },
    {
     "datasetId": 5383606,
     "sourceId": 8946379,
     "sourceType": "datasetVersion"
    }
   ],
   "isGpuEnabled": false,
   "isInternetEnabled": true,
   "language": "python",
   "sourceType": "notebook"
  },
  "kernelspec": {
   "display_name": "Python 3",
   "language": "python",
   "name": "python3"
  },
  "language_info": {
   "codemirror_mode": {
    "name": "ipython",
    "version": 3
   },
   "file_extension": ".py",
   "mimetype": "text/x-python",
   "name": "python",
   "nbconvert_exporter": "python",
   "pygments_lexer": "ipython3",
   "version": "3.10.13"
  },
  "papermill": {
   "default_parameters": {},
   "duration": 51.342058,
   "end_time": "2024-07-13T17:00:03.095367",
   "environment_variables": {},
   "exception": null,
   "input_path": "__notebook__.ipynb",
   "output_path": "__notebook__.ipynb",
   "parameters": {},
   "start_time": "2024-07-13T16:59:11.753309",
   "version": "2.5.0"
  }
 },
 "nbformat": 4,
 "nbformat_minor": 5
}
